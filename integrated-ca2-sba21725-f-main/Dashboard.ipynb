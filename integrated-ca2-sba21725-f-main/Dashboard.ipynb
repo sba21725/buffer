{
 "cells": [
  {
   "cell_type": "markdown",
   "id": "6e1adeef-3555-4092-b514-51b38dd8090c",
   "metadata": {},
   "source": [
    "# Dashboard"
   ]
  },
  {
   "cell_type": "code",
   "execution_count": 1,
   "id": "e378cfcb-7858-4db6-8940-1405080cc918",
   "metadata": {},
   "outputs": [],
   "source": [
    "# !pip install -r requirements.txt"
   ]
  },
  {
   "cell_type": "code",
   "execution_count": 2,
   "id": "58d1edb6-c6d3-46aa-80b6-19f94c61360b",
   "metadata": {},
   "outputs": [
    {
     "name": "stderr",
     "output_type": "stream",
     "text": [
      "2024-11-09 11:27:03.978126: I tensorflow/core/platform/cpu_feature_guard.cc:210] This TensorFlow binary is optimized to use available CPU instructions in performance-critical operations.\n",
      "To enable the following instructions: SSE4.1 SSE4.2 AVX AVX2, in other operations, rebuild TensorFlow with the appropriate compiler flags.\n"
     ]
    }
   ],
   "source": [
    "# imports\n",
    "\n",
    "import dash\n",
    "from dash import dcc, html\n",
    "from dash.dependencies import Input, Output\n",
    "\n",
    "import datetime\n",
    "\n",
    "from keras.models import Sequential\n",
    "from keras.layers import LSTM, Dense\n",
    "\n",
    "import matplotlib.pyplot as plt\n",
    "\n",
    "import nltk\n",
    "from nltk.sentiment import SentimentIntensityAnalyzer\n",
    "\n",
    "import numpy as np\n",
    "\n",
    "import os\n",
    "import pandas as pd\n",
    "\n",
    "from pymongo.mongo_client import MongoClient\n",
    "from pymongo.server_api import ServerApi\n",
    "\n",
    "import pymysql \n",
    "\n",
    "from sklearn.metrics import mean_squared_error\n",
    "from sklearn.model_selection import train_test_split\n",
    "from sklearn.preprocessing import MinMaxScaler\n",
    "\n",
    "from sqlalchemy import create_engine \n",
    "\n",
    "from statsmodels.tsa.arima.model import ARIMA\n",
    "\n",
    "import warnings"
   ]
  },
  {
   "cell_type": "code",
   "execution_count": 3,
   "id": "19aa4a2b-449d-4fef-8232-cf0ae58179bd",
   "metadata": {},
   "outputs": [],
   "source": [
    "# Suppress all warnings\n",
    "warnings.filterwarnings('ignore')"
   ]
  },
  {
   "cell_type": "code",
   "execution_count": 4,
   "id": "6e292be2-f451-4c59-8a97-652a22059d09",
   "metadata": {},
   "outputs": [],
   "source": [
    "# Get the data from the environment variables\n",
    "hostname = os.getenv('MYSQLHOST')\n",
    "port=int(os.getenv('MYSQLPORT'))\n",
    "username = os.getenv('MYSQLUSR')\n",
    "password = os.getenv('MYSQLPASS')\n",
    "database_name = os.getenv('MYSQLDB') \n",
    "ca_cert_path = '../ca.pem'\n",
    "\n",
    "# Create MySQL connection object\n",
    "connection = pymysql.connect( \n",
    "    host=hostname, \n",
    "    port=port, \n",
    "    user=username, \n",
    "    password=password, \n",
    "    database=database_name, \n",
    "    ssl={'ca': ca_cert_path} \n",
    ")\n",
    "\n",
    "# Create the SQLAlchemy engine for MySQL\n",
    "engine = create_engine(f\"mysql+pymysql://{username}:{password}@{hostname}:{port}/{database_name}\")"
   ]
  },
  {
   "cell_type": "code",
   "execution_count": 5,
   "id": "dccde000-b44d-49c8-af15-e4f08d557757",
   "metadata": {},
   "outputs": [],
   "source": [
    "MONGOURI = os.getenv('MONGOURI')\n",
    "MONGODB = os.getenv('MONGODB')\n",
    "\n",
    "client = MongoClient(MONGOURI, server_api=ServerApi('1'))\n",
    "\n",
    "# Select database by name.\n",
    "# If database does not exist it will create a new one.\n",
    "db = client[MONGODB]  \n",
    "\n",
    "# Collections\n",
    "arima_coll = db['arima']\n",
    "lstm_coll = db['lstm']"
   ]
  },
  {
   "cell_type": "code",
   "execution_count": 6,
   "id": "39c46bb9-5444-49c8-a62f-f55d405e493c",
   "metadata": {},
   "outputs": [],
   "source": [
    "query = \"SELECT ticker FROM Company;\"\n",
    "\n",
    "# Fetch data into a pandas DataFrame\n",
    "company_df = pd.read_sql(query, engine)"
   ]
  },
  {
   "cell_type": "code",
   "execution_count": 7,
   "id": "ec1fdedb-ee33-4517-b4de-699de41e2b80",
   "metadata": {},
   "outputs": [
    {
     "data": {
      "text/html": [
       "<div>\n",
       "<style scoped>\n",
       "    .dataframe tbody tr th:only-of-type {\n",
       "        vertical-align: middle;\n",
       "    }\n",
       "\n",
       "    .dataframe tbody tr th {\n",
       "        vertical-align: top;\n",
       "    }\n",
       "\n",
       "    .dataframe thead th {\n",
       "        text-align: right;\n",
       "    }\n",
       "</style>\n",
       "<table border=\"1\" class=\"dataframe\">\n",
       "  <thead>\n",
       "    <tr style=\"text-align: right;\">\n",
       "      <th></th>\n",
       "      <th>ticker</th>\n",
       "    </tr>\n",
       "  </thead>\n",
       "  <tbody>\n",
       "    <tr>\n",
       "      <th>0</th>\n",
       "      <td>AAPL</td>\n",
       "    </tr>\n",
       "    <tr>\n",
       "      <th>1</th>\n",
       "      <td>AMT</td>\n",
       "    </tr>\n",
       "    <tr>\n",
       "      <th>2</th>\n",
       "      <td>AMZN</td>\n",
       "    </tr>\n",
       "    <tr>\n",
       "      <th>3</th>\n",
       "      <td>BA</td>\n",
       "    </tr>\n",
       "    <tr>\n",
       "      <th>4</th>\n",
       "      <td>BABA</td>\n",
       "    </tr>\n",
       "  </tbody>\n",
       "</table>\n",
       "</div>"
      ],
      "text/plain": [
       "  ticker\n",
       "0   AAPL\n",
       "1    AMT\n",
       "2   AMZN\n",
       "3     BA\n",
       "4   BABA"
      ]
     },
     "execution_count": 7,
     "metadata": {},
     "output_type": "execute_result"
    }
   ],
   "source": [
    "company_df.head()"
   ]
  },
  {
   "cell_type": "code",
   "execution_count": 8,
   "id": "d52d35d0-cd08-4b0e-8440-f093c223ff92",
   "metadata": {},
   "outputs": [],
   "source": [
    "# Get unique values for the dropdown\n",
    "company = company_df['ticker']\n",
    "dropdown_options = [{'label': ticker, 'value': ticker} for ticker in company]"
   ]
  },
  {
   "cell_type": "code",
   "execution_count": 9,
   "id": "c8f4c606-4656-4e49-8830-a68d321ed377",
   "metadata": {},
   "outputs": [
    {
     "data": {
      "text/html": [
       "\n",
       "        <iframe\n",
       "            width=\"100%\"\n",
       "            height=\"650\"\n",
       "            src=\"http://127.0.0.1:8051/\"\n",
       "            frameborder=\"0\"\n",
       "            allowfullscreen\n",
       "            \n",
       "        ></iframe>\n",
       "        "
      ],
      "text/plain": [
       "<IPython.lib.display.IFrame at 0x71174aea4850>"
      ]
     },
     "metadata": {},
     "output_type": "display_data"
    }
   ],
   "source": [
    "# Initialize the Dash app\n",
    "app = dash.Dash(__name__)\n",
    "\n",
    "# Layout of the app\n",
    "app.layout = html.Div([\n",
    "    html.H1(\"Dashboard\"),\n",
    "    html.Label(\"Select a Company:\"),\n",
    "    dcc.Dropdown(\n",
    "        id='company-dropdown',\n",
    "        options=dropdown_options,  \n",
    "        value=company[0]  \n",
    "    ), \n",
    "    html.H3(\"ARIMA Model\"),\n",
    "    html.Div(id='arima-1d', style={'margin-top': '20px'}),\n",
    "    html.Div(id='arima-3d', style={'margin-top': '20px'}),\n",
    "    html.Div(id='arima-7d', style={'margin-top': '20px'}),\n",
    "\n",
    "    html.H3(\"LSTM Model\"),\n",
    "    html.Div(id='lstm-1d', style={'margin-top': '20px'}),\n",
    "    html.Div(id='lstm-3d', style={'margin-top': '20px'}),\n",
    "    html.Div(id='lstm-7d', style={'margin-top': '20px'}),\n",
    "\n",
    "    \n",
    "])\n",
    "\n",
    "# Callback to update the output based on user input\n",
    "@app.callback(\n",
    "    [Output('arima-1d', 'children'), Output('arima-3d', 'children'), Output('arima-7d', 'children'),\n",
    "    Output('lstm-1d', 'children'), Output('lstm-3d', 'children'), Output('lstm-7d', 'children')],\n",
    "    Input('company-dropdown', 'value')\n",
    ")\n",
    "def update_output(company):\n",
    "    query = {\"ticker\": company}\n",
    "    projection = {\"_id\": 0, \"ticker\": 1, \"1D\": 1, \"3D\": 1, \"7D\": 1}\n",
    "\n",
    "    # ARIMA\n",
    "    res = arima_coll.find(query, projection)\n",
    "    arima = list(res)\n",
    "\n",
    "    # LSTM\n",
    "    res = lstm_coll.find(query, projection)\n",
    "    lstm = list(res)   \n",
    "    \n",
    "    return [f\"1 day = {arima[0]['1D']}\", f\"3 days = {arima[0]['3D']}\", f\"7 days = {arima[0]['7D']}\",\n",
    "           f\"1 day = {lstm[0]['1D']}\", f\"3 days = {lstm[0]['3D']}\", f\"7 days = {lstm[0]['7D']}\"]\n",
    "\n",
    "\n",
    "# Run the app\n",
    "if __name__ == '__main__':\n",
    "    #app.run_server(debug=True)\n",
    "    app.run_server(mode=\"inline\", port=8051, debug=False)"
   ]
  }
 ],
 "metadata": {
  "kernelspec": {
   "display_name": "Python 3 (ipykernel)",
   "language": "python",
   "name": "python3"
  },
  "language_info": {
   "codemirror_mode": {
    "name": "ipython",
    "version": 3
   },
   "file_extension": ".py",
   "mimetype": "text/x-python",
   "name": "python",
   "nbconvert_exporter": "python",
   "pygments_lexer": "ipython3",
   "version": "3.9.19"
  }
 },
 "nbformat": 4,
 "nbformat_minor": 5
}
